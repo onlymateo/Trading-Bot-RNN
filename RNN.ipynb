{
 "cells": [
  {
   "cell_type": "code",
   "execution_count": 25,
   "metadata": {},
   "outputs": [
    {
     "name": "stdout",
     "output_type": "stream",
     "text": [
      "Requirement already satisfied: yahoofinance in c:\\users\\matéo\\appdata\\local\\packages\\pythonsoftwarefoundation.python.3.10_qbz5n2kfra8p0\\localcache\\local-packages\\python310\\site-packages (0.0.2)\n",
      "Requirement already satisfied: pandas>=0.23.4 in c:\\users\\matéo\\appdata\\local\\packages\\pythonsoftwarefoundation.python.3.10_qbz5n2kfra8p0\\localcache\\local-packages\\python310\\site-packages (from yahoofinance) (1.5.3)\n",
      "Requirement already satisfied: beautifulsoup4>=4.6.3 in c:\\users\\matéo\\appdata\\local\\packages\\pythonsoftwarefoundation.python.3.10_qbz5n2kfra8p0\\localcache\\local-packages\\python310\\site-packages (from yahoofinance) (4.11.2)\n",
      "Requirement already satisfied: requests>=2.20.1 in c:\\users\\matéo\\appdata\\local\\packages\\pythonsoftwarefoundation.python.3.10_qbz5n2kfra8p0\\localcache\\local-packages\\python310\\site-packages (from yahoofinance) (2.28.2)\n",
      "Requirement already satisfied: soupsieve>1.2 in c:\\users\\matéo\\appdata\\local\\packages\\pythonsoftwarefoundation.python.3.10_qbz5n2kfra8p0\\localcache\\local-packages\\python310\\site-packages (from beautifulsoup4>=4.6.3->yahoofinance) (2.4)\n",
      "Requirement already satisfied: numpy>=1.21.0 in c:\\users\\matéo\\appdata\\local\\packages\\pythonsoftwarefoundation.python.3.10_qbz5n2kfra8p0\\localcache\\local-packages\\python310\\site-packages (from pandas>=0.23.4->yahoofinance) (1.24.2)\n",
      "Requirement already satisfied: python-dateutil>=2.8.1 in c:\\users\\matéo\\appdata\\local\\packages\\pythonsoftwarefoundation.python.3.10_qbz5n2kfra8p0\\localcache\\local-packages\\python310\\site-packages (from pandas>=0.23.4->yahoofinance) (2.8.2)\n",
      "Requirement already satisfied: pytz>=2020.1 in c:\\users\\matéo\\appdata\\local\\packages\\pythonsoftwarefoundation.python.3.10_qbz5n2kfra8p0\\localcache\\local-packages\\python310\\site-packages (from pandas>=0.23.4->yahoofinance) (2022.7.1)\n",
      "Requirement already satisfied: idna<4,>=2.5 in c:\\users\\matéo\\appdata\\local\\packages\\pythonsoftwarefoundation.python.3.10_qbz5n2kfra8p0\\localcache\\local-packages\\python310\\site-packages (from requests>=2.20.1->yahoofinance) (3.4)\n",
      "Requirement already satisfied: charset-normalizer<4,>=2 in c:\\users\\matéo\\appdata\\local\\packages\\pythonsoftwarefoundation.python.3.10_qbz5n2kfra8p0\\localcache\\local-packages\\python310\\site-packages (from requests>=2.20.1->yahoofinance) (3.0.1)\n",
      "Requirement already satisfied: certifi>=2017.4.17 in c:\\users\\matéo\\appdata\\local\\packages\\pythonsoftwarefoundation.python.3.10_qbz5n2kfra8p0\\localcache\\local-packages\\python310\\site-packages (from requests>=2.20.1->yahoofinance) (2022.12.7)\n",
      "Requirement already satisfied: urllib3<1.27,>=1.21.1 in c:\\users\\matéo\\appdata\\local\\packages\\pythonsoftwarefoundation.python.3.10_qbz5n2kfra8p0\\localcache\\local-packages\\python310\\site-packages (from requests>=2.20.1->yahoofinance) (1.26.14)\n",
      "Requirement already satisfied: six>=1.5 in c:\\users\\matéo\\appdata\\local\\packages\\pythonsoftwarefoundation.python.3.10_qbz5n2kfra8p0\\localcache\\local-packages\\python310\\site-packages (from python-dateutil>=2.8.1->pandas>=0.23.4->yahoofinance) (1.16.0)\n",
      "Note: you may need to restart the kernel to use updated packages.\n"
     ]
    },
    {
     "name": "stderr",
     "output_type": "stream",
     "text": [
      "\n",
      "[notice] A new release of pip available: 22.3.1 -> 23.0.1\n",
      "[notice] To update, run: C:\\Users\\Matéo\\AppData\\Local\\Microsoft\\WindowsApps\\PythonSoftwareFoundation.Python.3.10_qbz5n2kfra8p0\\python.exe -m pip install --upgrade pip\n"
     ]
    },
    {
     "name": "stdout",
     "output_type": "stream",
     "text": [
      "Requirement already satisfied: yfinance in c:\\users\\matéo\\appdata\\local\\packages\\pythonsoftwarefoundation.python.3.10_qbz5n2kfra8p0\\localcache\\local-packages\\python310\\site-packages (0.2.12)\n",
      "Requirement already satisfied: html5lib>=1.1 in c:\\users\\matéo\\appdata\\local\\packages\\pythonsoftwarefoundation.python.3.10_qbz5n2kfra8p0\\localcache\\local-packages\\python310\\site-packages (from yfinance) (1.1)\n",
      "Requirement already satisfied: numpy>=1.16.5 in c:\\users\\matéo\\appdata\\local\\packages\\pythonsoftwarefoundation.python.3.10_qbz5n2kfra8p0\\localcache\\local-packages\\python310\\site-packages (from yfinance) (1.24.2)\n",
      "Requirement already satisfied: cryptography>=3.3.2 in c:\\users\\matéo\\appdata\\local\\packages\\pythonsoftwarefoundation.python.3.10_qbz5n2kfra8p0\\localcache\\local-packages\\python310\\site-packages (from yfinance) (39.0.1)\n",
      "Requirement already satisfied: pytz>=2022.5 in c:\\users\\matéo\\appdata\\local\\packages\\pythonsoftwarefoundation.python.3.10_qbz5n2kfra8p0\\localcache\\local-packages\\python310\\site-packages (from yfinance) (2022.7.1)\n",
      "Requirement already satisfied: pandas>=1.3.0 in c:\\users\\matéo\\appdata\\local\\packages\\pythonsoftwarefoundation.python.3.10_qbz5n2kfra8p0\\localcache\\local-packages\\python310\\site-packages (from yfinance) (1.5.3)\n",
      "Requirement already satisfied: multitasking>=0.0.7 in c:\\users\\matéo\\appdata\\local\\packages\\pythonsoftwarefoundation.python.3.10_qbz5n2kfra8p0\\localcache\\local-packages\\python310\\site-packages (from yfinance) (0.0.11)\n",
      "Requirement already satisfied: requests>=2.26 in c:\\users\\matéo\\appdata\\local\\packages\\pythonsoftwarefoundation.python.3.10_qbz5n2kfra8p0\\localcache\\local-packages\\python310\\site-packages (from yfinance) (2.28.2)\n",
      "Requirement already satisfied: frozendict>=2.3.4 in c:\\users\\matéo\\appdata\\local\\packages\\pythonsoftwarefoundation.python.3.10_qbz5n2kfra8p0\\localcache\\local-packages\\python310\\site-packages (from yfinance) (2.3.5)\n",
      "Requirement already satisfied: beautifulsoup4>=4.11.1 in c:\\users\\matéo\\appdata\\local\\packages\\pythonsoftwarefoundation.python.3.10_qbz5n2kfra8p0\\localcache\\local-packages\\python310\\site-packages (from yfinance) (4.11.2)\n",
      "Requirement already satisfied: lxml>=4.9.1 in c:\\users\\matéo\\appdata\\local\\packages\\pythonsoftwarefoundation.python.3.10_qbz5n2kfra8p0\\localcache\\local-packages\\python310\\site-packages (from yfinance) (4.9.2)\n",
      "Requirement already satisfied: appdirs>=1.4.4 in c:\\users\\matéo\\appdata\\local\\packages\\pythonsoftwarefoundation.python.3.10_qbz5n2kfra8p0\\localcache\\local-packages\\python310\\site-packages (from yfinance) (1.4.4)\n",
      "Requirement already satisfied: soupsieve>1.2 in c:\\users\\matéo\\appdata\\local\\packages\\pythonsoftwarefoundation.python.3.10_qbz5n2kfra8p0\\localcache\\local-packages\\python310\\site-packages (from beautifulsoup4>=4.11.1->yfinance) (2.4)\n",
      "Requirement already satisfied: cffi>=1.12 in c:\\users\\matéo\\appdata\\local\\packages\\pythonsoftwarefoundation.python.3.10_qbz5n2kfra8p0\\localcache\\local-packages\\python310\\site-packages (from cryptography>=3.3.2->yfinance) (1.15.1)\n",
      "Requirement already satisfied: six>=1.9 in c:\\users\\matéo\\appdata\\local\\packages\\pythonsoftwarefoundation.python.3.10_qbz5n2kfra8p0\\localcache\\local-packages\\python310\\site-packages (from html5lib>=1.1->yfinance) (1.16.0)\n",
      "Requirement already satisfied: webencodings in c:\\users\\matéo\\appdata\\local\\packages\\pythonsoftwarefoundation.python.3.10_qbz5n2kfra8p0\\localcache\\local-packages\\python310\\site-packages (from html5lib>=1.1->yfinance) (0.5.1)\n",
      "Requirement already satisfied: python-dateutil>=2.8.1 in c:\\users\\matéo\\appdata\\local\\packages\\pythonsoftwarefoundation.python.3.10_qbz5n2kfra8p0\\localcache\\local-packages\\python310\\site-packages (from pandas>=1.3.0->yfinance) (2.8.2)\n",
      "Requirement already satisfied: charset-normalizer<4,>=2 in c:\\users\\matéo\\appdata\\local\\packages\\pythonsoftwarefoundation.python.3.10_qbz5n2kfra8p0\\localcache\\local-packages\\python310\\site-packages (from requests>=2.26->yfinance) (3.0.1)\n",
      "Requirement already satisfied: urllib3<1.27,>=1.21.1 in c:\\users\\matéo\\appdata\\local\\packages\\pythonsoftwarefoundation.python.3.10_qbz5n2kfra8p0\\localcache\\local-packages\\python310\\site-packages (from requests>=2.26->yfinance) (1.26.14)\n",
      "Requirement already satisfied: certifi>=2017.4.17 in c:\\users\\matéo\\appdata\\local\\packages\\pythonsoftwarefoundation.python.3.10_qbz5n2kfra8p0\\localcache\\local-packages\\python310\\site-packages (from requests>=2.26->yfinance) (2022.12.7)\n",
      "Requirement already satisfied: idna<4,>=2.5 in c:\\users\\matéo\\appdata\\local\\packages\\pythonsoftwarefoundation.python.3.10_qbz5n2kfra8p0\\localcache\\local-packages\\python310\\site-packages (from requests>=2.26->yfinance) (3.4)\n",
      "Requirement already satisfied: pycparser in c:\\users\\matéo\\appdata\\local\\packages\\pythonsoftwarefoundation.python.3.10_qbz5n2kfra8p0\\localcache\\local-packages\\python310\\site-packages (from cffi>=1.12->cryptography>=3.3.2->yfinance) (2.21)\n",
      "Note: you may need to restart the kernel to use updated packages.\n"
     ]
    },
    {
     "name": "stderr",
     "output_type": "stream",
     "text": [
      "\n",
      "[notice] A new release of pip available: 22.3.1 -> 23.0.1\n",
      "[notice] To update, run: C:\\Users\\Matéo\\AppData\\Local\\Microsoft\\WindowsApps\\PythonSoftwareFoundation.Python.3.10_qbz5n2kfra8p0\\python.exe -m pip install --upgrade pip\n"
     ]
    },
    {
     "name": "stdout",
     "output_type": "stream",
     "text": [
      "Requirement already satisfied: ta in c:\\users\\matéo\\appdata\\local\\packages\\pythonsoftwarefoundation.python.3.10_qbz5n2kfra8p0\\localcache\\local-packages\\python310\\site-packages (0.10.2)\n",
      "Requirement already satisfied: pandas in c:\\users\\matéo\\appdata\\local\\packages\\pythonsoftwarefoundation.python.3.10_qbz5n2kfra8p0\\localcache\\local-packages\\python310\\site-packages (from ta) (1.5.3)\n",
      "Requirement already satisfied: numpy in c:\\users\\matéo\\appdata\\local\\packages\\pythonsoftwarefoundation.python.3.10_qbz5n2kfra8p0\\localcache\\local-packages\\python310\\site-packages (from ta) (1.24.2)\n",
      "Requirement already satisfied: python-dateutil>=2.8.1 in c:\\users\\matéo\\appdata\\local\\packages\\pythonsoftwarefoundation.python.3.10_qbz5n2kfra8p0\\localcache\\local-packages\\python310\\site-packages (from pandas->ta) (2.8.2)\n",
      "Requirement already satisfied: pytz>=2020.1 in c:\\users\\matéo\\appdata\\local\\packages\\pythonsoftwarefoundation.python.3.10_qbz5n2kfra8p0\\localcache\\local-packages\\python310\\site-packages (from pandas->ta) (2022.7.1)\n",
      "Requirement already satisfied: six>=1.5 in c:\\users\\matéo\\appdata\\local\\packages\\pythonsoftwarefoundation.python.3.10_qbz5n2kfra8p0\\localcache\\local-packages\\python310\\site-packages (from python-dateutil>=2.8.1->pandas->ta) (1.16.0)\n",
      "Note: you may need to restart the kernel to use updated packages.\n"
     ]
    },
    {
     "name": "stderr",
     "output_type": "stream",
     "text": [
      "\n",
      "[notice] A new release of pip available: 22.3.1 -> 23.0.1\n",
      "[notice] To update, run: C:\\Users\\Matéo\\AppData\\Local\\Microsoft\\WindowsApps\\PythonSoftwareFoundation.Python.3.10_qbz5n2kfra8p0\\python.exe -m pip install --upgrade pip\n"
     ]
    },
    {
     "name": "stdout",
     "output_type": "stream",
     "text": [
      "Note: you may need to restart the kernel to use updated packages.\n"
     ]
    },
    {
     "name": "stderr",
     "output_type": "stream",
     "text": [
      "ERROR: Could not find a version that satisfies the requirement time (from versions: none)\n",
      "ERROR: No matching distribution found for time\n",
      "\n",
      "[notice] A new release of pip available: 22.3.1 -> 23.0.1\n",
      "[notice] To update, run: C:\\Users\\Matéo\\AppData\\Local\\Microsoft\\WindowsApps\\PythonSoftwareFoundation.Python.3.10_qbz5n2kfra8p0\\python.exe -m pip install --upgrade pip\n"
     ]
    },
    {
     "name": "stdout",
     "output_type": "stream",
     "text": [
      "Requirement already satisfied: tqdm in c:\\users\\matéo\\appdata\\local\\packages\\pythonsoftwarefoundation.python.3.10_qbz5n2kfra8p0\\localcache\\local-packages\\python310\\site-packages (4.64.1)\n",
      "Requirement already satisfied: colorama in c:\\users\\matéo\\appdata\\local\\packages\\pythonsoftwarefoundation.python.3.10_qbz5n2kfra8p0\\localcache\\local-packages\\python310\\site-packages (from tqdm) (0.4.6)\n",
      "Note: you may need to restart the kernel to use updated packages.\n"
     ]
    },
    {
     "name": "stderr",
     "output_type": "stream",
     "text": [
      "\n",
      "[notice] A new release of pip available: 22.3.1 -> 23.0.1\n",
      "[notice] To update, run: C:\\Users\\Matéo\\AppData\\Local\\Microsoft\\WindowsApps\\PythonSoftwareFoundation.Python.3.10_qbz5n2kfra8p0\\python.exe -m pip install --upgrade pip\n"
     ]
    },
    {
     "name": "stdout",
     "output_type": "stream",
     "text": [
      "Requirement already satisfied: pickle-mixin in c:\\users\\matéo\\appdata\\local\\packages\\pythonsoftwarefoundation.python.3.10_qbz5n2kfra8p0\\localcache\\local-packages\\python310\\site-packages (1.0.2)\n",
      "Note: you may need to restart the kernel to use updated packages.\n"
     ]
    },
    {
     "name": "stderr",
     "output_type": "stream",
     "text": [
      "\n",
      "[notice] A new release of pip available: 22.3.1 -> 23.0.1\n",
      "[notice] To update, run: C:\\Users\\Matéo\\AppData\\Local\\Microsoft\\WindowsApps\\PythonSoftwareFoundation.Python.3.10_qbz5n2kfra8p0\\python.exe -m pip install --upgrade pip\n"
     ]
    },
    {
     "name": "stdout",
     "output_type": "stream",
     "text": [
      "Requirement already satisfied: MetaTrader5 in c:\\users\\matéo\\appdata\\local\\packages\\pythonsoftwarefoundation.python.3.10_qbz5n2kfra8p0\\localcache\\local-packages\\python310\\site-packages (5.0.44)\n",
      "Requirement already satisfied: numpy>=1.7 in c:\\users\\matéo\\appdata\\local\\packages\\pythonsoftwarefoundation.python.3.10_qbz5n2kfra8p0\\localcache\\local-packages\\python310\\site-packages (from MetaTrader5) (1.24.2)\n",
      "Note: you may need to restart the kernel to use updated packages.\n"
     ]
    },
    {
     "name": "stderr",
     "output_type": "stream",
     "text": [
      "\n",
      "[notice] A new release of pip available: 22.3.1 -> 23.0.1\n",
      "[notice] To update, run: C:\\Users\\Matéo\\AppData\\Local\\Microsoft\\WindowsApps\\PythonSoftwareFoundation.Python.3.10_qbz5n2kfra8p0\\python.exe -m pip install --upgrade pip\n"
     ]
    },
    {
     "name": "stdout",
     "output_type": "stream",
     "text": [
      "Requirement already satisfied: numpy in c:\\users\\matéo\\appdata\\local\\packages\\pythonsoftwarefoundation.python.3.10_qbz5n2kfra8p0\\localcache\\local-packages\\python310\\site-packages (1.24.2)\n",
      "Note: you may need to restart the kernel to use updated packages.\n"
     ]
    },
    {
     "name": "stderr",
     "output_type": "stream",
     "text": [
      "\n",
      "[notice] A new release of pip available: 22.3.1 -> 23.0.1\n",
      "[notice] To update, run: C:\\Users\\Matéo\\AppData\\Local\\Microsoft\\WindowsApps\\PythonSoftwareFoundation.Python.3.10_qbz5n2kfra8p0\\python.exe -m pip install --upgrade pip\n"
     ]
    },
    {
     "name": "stdout",
     "output_type": "stream",
     "text": [
      "Requirement already satisfied: spicy in c:\\users\\matéo\\appdata\\local\\packages\\pythonsoftwarefoundation.python.3.10_qbz5n2kfra8p0\\localcache\\local-packages\\python310\\site-packages (0.16.0)\n",
      "Requirement already satisfied: scipy in c:\\users\\matéo\\appdata\\local\\packages\\pythonsoftwarefoundation.python.3.10_qbz5n2kfra8p0\\localcache\\local-packages\\python310\\site-packages (from spicy) (1.10.1)\n",
      "Requirement already satisfied: numpy<1.27.0,>=1.19.5 in c:\\users\\matéo\\appdata\\local\\packages\\pythonsoftwarefoundation.python.3.10_qbz5n2kfra8p0\\localcache\\local-packages\\python310\\site-packages (from scipy->spicy) (1.24.2)\n",
      "Note: you may need to restart the kernel to use updated packages.\n"
     ]
    },
    {
     "name": "stderr",
     "output_type": "stream",
     "text": [
      "\n",
      "[notice] A new release of pip available: 22.3.1 -> 23.0.1\n",
      "[notice] To update, run: C:\\Users\\Matéo\\AppData\\Local\\Microsoft\\WindowsApps\\PythonSoftwareFoundation.Python.3.10_qbz5n2kfra8p0\\python.exe -m pip install --upgrade pip\n"
     ]
    },
    {
     "name": "stdout",
     "output_type": "stream",
     "text": [
      "Requirement already satisfied: datetime in c:\\users\\matéo\\appdata\\local\\packages\\pythonsoftwarefoundation.python.3.10_qbz5n2kfra8p0\\localcache\\local-packages\\python310\\site-packages (5.0)\n",
      "Requirement already satisfied: zope.interface in c:\\users\\matéo\\appdata\\local\\packages\\pythonsoftwarefoundation.python.3.10_qbz5n2kfra8p0\\localcache\\local-packages\\python310\\site-packages (from datetime) (5.5.2)\n",
      "Requirement already satisfied: pytz in c:\\users\\matéo\\appdata\\local\\packages\\pythonsoftwarefoundation.python.3.10_qbz5n2kfra8p0\\localcache\\local-packages\\python310\\site-packages (from datetime) (2022.7.1)\n",
      "Requirement already satisfied: setuptools in c:\\program files\\windowsapps\\pythonsoftwarefoundation.python.3.10_3.10.2800.0_x64__qbz5n2kfra8p0\\lib\\site-packages (from zope.interface->datetime) (65.5.0)\n",
      "Note: you may need to restart the kernel to use updated packages.\n"
     ]
    },
    {
     "name": "stderr",
     "output_type": "stream",
     "text": [
      "\n",
      "[notice] A new release of pip available: 22.3.1 -> 23.0.1\n",
      "[notice] To update, run: C:\\Users\\Matéo\\AppData\\Local\\Microsoft\\WindowsApps\\PythonSoftwareFoundation.Python.3.10_qbz5n2kfra8p0\\python.exe -m pip install --upgrade pip\n"
     ]
    },
    {
     "name": "stdout",
     "output_type": "stream",
     "text": [
      "Requirement already satisfied: scikit-learn in c:\\users\\matéo\\appdata\\local\\packages\\pythonsoftwarefoundation.python.3.10_qbz5n2kfra8p0\\localcache\\local-packages\\python310\\site-packages (1.2.1)\n",
      "Requirement already satisfied: threadpoolctl>=2.0.0 in c:\\users\\matéo\\appdata\\local\\packages\\pythonsoftwarefoundation.python.3.10_qbz5n2kfra8p0\\localcache\\local-packages\\python310\\site-packages (from scikit-learn) (3.1.0)\n",
      "Requirement already satisfied: joblib>=1.1.1 in c:\\users\\matéo\\appdata\\local\\packages\\pythonsoftwarefoundation.python.3.10_qbz5n2kfra8p0\\localcache\\local-packages\\python310\\site-packages (from scikit-learn) (1.2.0)\n",
      "Requirement already satisfied: scipy>=1.3.2 in c:\\users\\matéo\\appdata\\local\\packages\\pythonsoftwarefoundation.python.3.10_qbz5n2kfra8p0\\localcache\\local-packages\\python310\\site-packages (from scikit-learn) (1.10.1)\n",
      "Requirement already satisfied: numpy>=1.17.3 in c:\\users\\matéo\\appdata\\local\\packages\\pythonsoftwarefoundation.python.3.10_qbz5n2kfra8p0\\localcache\\local-packages\\python310\\site-packages (from scikit-learn) (1.24.2)\n",
      "Note: you may need to restart the kernel to use updated packages.\n"
     ]
    },
    {
     "name": "stderr",
     "output_type": "stream",
     "text": [
      "\n",
      "[notice] A new release of pip available: 22.3.1 -> 23.0.1\n",
      "[notice] To update, run: C:\\Users\\Matéo\\AppData\\Local\\Microsoft\\WindowsApps\\PythonSoftwareFoundation.Python.3.10_qbz5n2kfra8p0\\python.exe -m pip install --upgrade pip\n"
     ]
    },
    {
     "name": "stdout",
     "output_type": "stream",
     "text": [
      "Note: you may need to restart the kernel to use updated packages.\n"
     ]
    },
    {
     "name": "stderr",
     "output_type": "stream",
     "text": [
      "ERROR: Could not find a version that satisfies the requirement tensorflow==2.0 (from versions: 2.8.0rc1, 2.8.0, 2.8.1, 2.8.2, 2.8.3, 2.8.4, 2.9.0rc0, 2.9.0rc1, 2.9.0rc2, 2.9.0, 2.9.1, 2.9.2, 2.9.3, 2.10.0rc0, 2.10.0rc1, 2.10.0rc2, 2.10.0rc3, 2.10.0, 2.10.1, 2.11.0rc0, 2.11.0rc1, 2.11.0rc2, 2.11.0, 2.12.0rc0)\n",
      "ERROR: No matching distribution found for tensorflow==2.0\n",
      "\n",
      "[notice] A new release of pip available: 22.3.1 -> 23.0.1\n",
      "[notice] To update, run: C:\\Users\\Matéo\\AppData\\Local\\Microsoft\\WindowsApps\\PythonSoftwareFoundation.Python.3.10_qbz5n2kfra8p0\\python.exe -m pip install --upgrade pip\n"
     ]
    },
    {
     "name": "stdout",
     "output_type": "stream",
     "text": [
      "Requirement already satisfied: keras in c:\\users\\matéo\\appdata\\local\\packages\\pythonsoftwarefoundation.python.3.10_qbz5n2kfra8p0\\localcache\\local-packages\\python310\\site-packages (2.11.0)\n",
      "Note: you may need to restart the kernel to use updated packages.\n"
     ]
    },
    {
     "name": "stderr",
     "output_type": "stream",
     "text": [
      "\n",
      "[notice] A new release of pip available: 22.3.1 -> 23.0.1\n",
      "[notice] To update, run: C:\\Users\\Matéo\\AppData\\Local\\Microsoft\\WindowsApps\\PythonSoftwareFoundation.Python.3.10_qbz5n2kfra8p0\\python.exe -m pip install --upgrade pip\n"
     ]
    },
    {
     "name": "stdout",
     "output_type": "stream",
     "text": [
      "Requirement already satisfied: pandas in c:\\users\\matéo\\appdata\\local\\packages\\pythonsoftwarefoundation.python.3.10_qbz5n2kfra8p0\\localcache\\local-packages\\python310\\site-packages (1.5.3)\n",
      "Requirement already satisfied: pytz>=2020.1 in c:\\users\\matéo\\appdata\\local\\packages\\pythonsoftwarefoundation.python.3.10_qbz5n2kfra8p0\\localcache\\local-packages\\python310\\site-packages (from pandas) (2022.7.1)\n",
      "Requirement already satisfied: numpy>=1.21.0 in c:\\users\\matéo\\appdata\\local\\packages\\pythonsoftwarefoundation.python.3.10_qbz5n2kfra8p0\\localcache\\local-packages\\python310\\site-packages (from pandas) (1.24.2)\n",
      "Requirement already satisfied: python-dateutil>=2.8.1 in c:\\users\\matéo\\appdata\\local\\packages\\pythonsoftwarefoundation.python.3.10_qbz5n2kfra8p0\\localcache\\local-packages\\python310\\site-packages (from pandas) (2.8.2)\n",
      "Requirement already satisfied: six>=1.5 in c:\\users\\matéo\\appdata\\local\\packages\\pythonsoftwarefoundation.python.3.10_qbz5n2kfra8p0\\localcache\\local-packages\\python310\\site-packages (from python-dateutil>=2.8.1->pandas) (1.16.0)\n",
      "Note: you may need to restart the kernel to use updated packages.\n"
     ]
    },
    {
     "name": "stderr",
     "output_type": "stream",
     "text": [
      "\n",
      "[notice] A new release of pip available: 22.3.1 -> 23.0.1\n",
      "[notice] To update, run: C:\\Users\\Matéo\\AppData\\Local\\Microsoft\\WindowsApps\\PythonSoftwareFoundation.Python.3.10_qbz5n2kfra8p0\\python.exe -m pip install --upgrade pip\n"
     ]
    },
    {
     "name": "stdout",
     "output_type": "stream",
     "text": [
      "Requirement already satisfied: pandas_datareader in c:\\users\\matéo\\appdata\\local\\packages\\pythonsoftwarefoundation.python.3.10_qbz5n2kfra8p0\\localcache\\local-packages\\python310\\site-packages (0.10.0)\n",
      "Requirement already satisfied: requests>=2.19.0 in c:\\users\\matéo\\appdata\\local\\packages\\pythonsoftwarefoundation.python.3.10_qbz5n2kfra8p0\\localcache\\local-packages\\python310\\site-packages (from pandas_datareader) (2.28.2)\n",
      "Requirement already satisfied: pandas>=0.23 in c:\\users\\matéo\\appdata\\local\\packages\\pythonsoftwarefoundation.python.3.10_qbz5n2kfra8p0\\localcache\\local-packages\\python310\\site-packages (from pandas_datareader) (1.5.3)\n",
      "Requirement already satisfied: lxml in c:\\users\\matéo\\appdata\\local\\packages\\pythonsoftwarefoundation.python.3.10_qbz5n2kfra8p0\\localcache\\local-packages\\python310\\site-packages (from pandas_datareader) (4.9.2)\n",
      "Requirement already satisfied: python-dateutil>=2.8.1 in c:\\users\\matéo\\appdata\\local\\packages\\pythonsoftwarefoundation.python.3.10_qbz5n2kfra8p0\\localcache\\local-packages\\python310\\site-packages (from pandas>=0.23->pandas_datareader) (2.8.2)\n",
      "Requirement already satisfied: numpy>=1.21.0 in c:\\users\\matéo\\appdata\\local\\packages\\pythonsoftwarefoundation.python.3.10_qbz5n2kfra8p0\\localcache\\local-packages\\python310\\site-packages (from pandas>=0.23->pandas_datareader) (1.24.2)\n",
      "Requirement already satisfied: pytz>=2020.1 in c:\\users\\matéo\\appdata\\local\\packages\\pythonsoftwarefoundation.python.3.10_qbz5n2kfra8p0\\localcache\\local-packages\\python310\\site-packages (from pandas>=0.23->pandas_datareader) (2022.7.1)\n",
      "Requirement already satisfied: idna<4,>=2.5 in c:\\users\\matéo\\appdata\\local\\packages\\pythonsoftwarefoundation.python.3.10_qbz5n2kfra8p0\\localcache\\local-packages\\python310\\site-packages (from requests>=2.19.0->pandas_datareader) (3.4)\n",
      "Requirement already satisfied: charset-normalizer<4,>=2 in c:\\users\\matéo\\appdata\\local\\packages\\pythonsoftwarefoundation.python.3.10_qbz5n2kfra8p0\\localcache\\local-packages\\python310\\site-packages (from requests>=2.19.0->pandas_datareader) (3.0.1)\n",
      "Requirement already satisfied: certifi>=2017.4.17 in c:\\users\\matéo\\appdata\\local\\packages\\pythonsoftwarefoundation.python.3.10_qbz5n2kfra8p0\\localcache\\local-packages\\python310\\site-packages (from requests>=2.19.0->pandas_datareader) (2022.12.7)\n",
      "Requirement already satisfied: urllib3<1.27,>=1.21.1 in c:\\users\\matéo\\appdata\\local\\packages\\pythonsoftwarefoundation.python.3.10_qbz5n2kfra8p0\\localcache\\local-packages\\python310\\site-packages (from requests>=2.19.0->pandas_datareader) (1.26.14)\n",
      "Requirement already satisfied: six>=1.5 in c:\\users\\matéo\\appdata\\local\\packages\\pythonsoftwarefoundation.python.3.10_qbz5n2kfra8p0\\localcache\\local-packages\\python310\\site-packages (from python-dateutil>=2.8.1->pandas>=0.23->pandas_datareader) (1.16.0)\n",
      "Note: you may need to restart the kernel to use updated packages.\n"
     ]
    },
    {
     "name": "stderr",
     "output_type": "stream",
     "text": [
      "\n",
      "[notice] A new release of pip available: 22.3.1 -> 23.0.1\n",
      "[notice] To update, run: C:\\Users\\Matéo\\AppData\\Local\\Microsoft\\WindowsApps\\PythonSoftwareFoundation.Python.3.10_qbz5n2kfra8p0\\python.exe -m pip install --upgrade pip\n"
     ]
    },
    {
     "name": "stdout",
     "output_type": "stream",
     "text": [
      "Requirement already satisfied: pandas_ta in c:\\users\\matéo\\appdata\\local\\packages\\pythonsoftwarefoundation.python.3.10_qbz5n2kfra8p0\\localcache\\local-packages\\python310\\site-packages (0.3.14b0)\n",
      "Requirement already satisfied: pandas in c:\\users\\matéo\\appdata\\local\\packages\\pythonsoftwarefoundation.python.3.10_qbz5n2kfra8p0\\localcache\\local-packages\\python310\\site-packages (from pandas_ta) (1.5.3)\n",
      "Requirement already satisfied: numpy>=1.21.0 in c:\\users\\matéo\\appdata\\local\\packages\\pythonsoftwarefoundation.python.3.10_qbz5n2kfra8p0\\localcache\\local-packages\\python310\\site-packages (from pandas->pandas_ta) (1.24.2)\n",
      "Requirement already satisfied: python-dateutil>=2.8.1 in c:\\users\\matéo\\appdata\\local\\packages\\pythonsoftwarefoundation.python.3.10_qbz5n2kfra8p0\\localcache\\local-packages\\python310\\site-packages (from pandas->pandas_ta) (2.8.2)\n",
      "Requirement already satisfied: pytz>=2020.1 in c:\\users\\matéo\\appdata\\local\\packages\\pythonsoftwarefoundation.python.3.10_qbz5n2kfra8p0\\localcache\\local-packages\\python310\\site-packages (from pandas->pandas_ta) (2022.7.1)\n",
      "Requirement already satisfied: six>=1.5 in c:\\users\\matéo\\appdata\\local\\packages\\pythonsoftwarefoundation.python.3.10_qbz5n2kfra8p0\\localcache\\local-packages\\python310\\site-packages (from python-dateutil>=2.8.1->pandas->pandas_ta) (1.16.0)\n",
      "Note: you may need to restart the kernel to use updated packages.\n"
     ]
    },
    {
     "name": "stderr",
     "output_type": "stream",
     "text": [
      "\n",
      "[notice] A new release of pip available: 22.3.1 -> 23.0.1\n",
      "[notice] To update, run: C:\\Users\\Matéo\\AppData\\Local\\Microsoft\\WindowsApps\\PythonSoftwareFoundation.Python.3.10_qbz5n2kfra8p0\\python.exe -m pip install --upgrade pip\n"
     ]
    },
    {
     "name": "stdout",
     "output_type": "stream",
     "text": [
      "Requirement already satisfied: matplotlib in c:\\users\\matéo\\appdata\\local\\packages\\pythonsoftwarefoundation.python.3.10_qbz5n2kfra8p0\\localcache\\local-packages\\python310\\site-packages (3.7.0)\n",
      "Requirement already satisfied: kiwisolver>=1.0.1 in c:\\users\\matéo\\appdata\\local\\packages\\pythonsoftwarefoundation.python.3.10_qbz5n2kfra8p0\\localcache\\local-packages\\python310\\site-packages (from matplotlib) (1.4.4)\n",
      "Requirement already satisfied: pyparsing>=2.3.1 in c:\\users\\matéo\\appdata\\local\\packages\\pythonsoftwarefoundation.python.3.10_qbz5n2kfra8p0\\localcache\\local-packages\\python310\\site-packages (from matplotlib) (3.0.9)\n",
      "Requirement already satisfied: contourpy>=1.0.1 in c:\\users\\matéo\\appdata\\local\\packages\\pythonsoftwarefoundation.python.3.10_qbz5n2kfra8p0\\localcache\\local-packages\\python310\\site-packages (from matplotlib) (1.0.7)\n",
      "Requirement already satisfied: fonttools>=4.22.0 in c:\\users\\matéo\\appdata\\local\\packages\\pythonsoftwarefoundation.python.3.10_qbz5n2kfra8p0\\localcache\\local-packages\\python310\\site-packages (from matplotlib) (4.38.0)\n",
      "Requirement already satisfied: packaging>=20.0 in c:\\users\\matéo\\appdata\\local\\packages\\pythonsoftwarefoundation.python.3.10_qbz5n2kfra8p0\\localcache\\local-packages\\python310\\site-packages (from matplotlib) (23.0)\n",
      "Requirement already satisfied: numpy>=1.20 in c:\\users\\matéo\\appdata\\local\\packages\\pythonsoftwarefoundation.python.3.10_qbz5n2kfra8p0\\localcache\\local-packages\\python310\\site-packages (from matplotlib) (1.24.2)\n",
      "Requirement already satisfied: pillow>=6.2.0 in c:\\users\\matéo\\appdata\\local\\packages\\pythonsoftwarefoundation.python.3.10_qbz5n2kfra8p0\\localcache\\local-packages\\python310\\site-packages (from matplotlib) (9.4.0)\n",
      "Requirement already satisfied: python-dateutil>=2.7 in c:\\users\\matéo\\appdata\\local\\packages\\pythonsoftwarefoundation.python.3.10_qbz5n2kfra8p0\\localcache\\local-packages\\python310\\site-packages (from matplotlib) (2.8.2)\n",
      "Requirement already satisfied: cycler>=0.10 in c:\\users\\matéo\\appdata\\local\\packages\\pythonsoftwarefoundation.python.3.10_qbz5n2kfra8p0\\localcache\\local-packages\\python310\\site-packages (from matplotlib) (0.11.0)\n",
      "Requirement already satisfied: six>=1.5 in c:\\users\\matéo\\appdata\\local\\packages\\pythonsoftwarefoundation.python.3.10_qbz5n2kfra8p0\\localcache\\local-packages\\python310\\site-packages (from python-dateutil>=2.7->matplotlib) (1.16.0)\n",
      "Note: you may need to restart the kernel to use updated packages.\n"
     ]
    },
    {
     "name": "stderr",
     "output_type": "stream",
     "text": [
      "\n",
      "[notice] A new release of pip available: 22.3.1 -> 23.0.1\n",
      "[notice] To update, run: C:\\Users\\Matéo\\AppData\\Local\\Microsoft\\WindowsApps\\PythonSoftwareFoundation.Python.3.10_qbz5n2kfra8p0\\python.exe -m pip install --upgrade pip\n"
     ]
    },
    {
     "name": "stdout",
     "output_type": "stream",
     "text": [
      "Requirement already satisfied: import-ipynb in c:\\users\\matéo\\appdata\\local\\packages\\pythonsoftwarefoundation.python.3.10_qbz5n2kfra8p0\\localcache\\local-packages\\python310\\site-packages (0.1.4)\n",
      "Requirement already satisfied: nbformat in c:\\users\\matéo\\appdata\\local\\packages\\pythonsoftwarefoundation.python.3.10_qbz5n2kfra8p0\\localcache\\local-packages\\python310\\site-packages (from import-ipynb) (5.7.3)\n",
      "Requirement already satisfied: IPython in c:\\users\\matéo\\appdata\\local\\packages\\pythonsoftwarefoundation.python.3.10_qbz5n2kfra8p0\\localcache\\local-packages\\python310\\site-packages (from import-ipynb) (8.10.0)\n",
      "Requirement already satisfied: jedi>=0.16 in c:\\users\\matéo\\appdata\\local\\packages\\pythonsoftwarefoundation.python.3.10_qbz5n2kfra8p0\\localcache\\local-packages\\python310\\site-packages (from IPython->import-ipynb) (0.18.2)\n",
      "Requirement already satisfied: traitlets>=5 in c:\\users\\matéo\\appdata\\local\\packages\\pythonsoftwarefoundation.python.3.10_qbz5n2kfra8p0\\localcache\\local-packages\\python310\\site-packages (from IPython->import-ipynb) (5.9.0)\n",
      "Requirement already satisfied: colorama in c:\\users\\matéo\\appdata\\local\\packages\\pythonsoftwarefoundation.python.3.10_qbz5n2kfra8p0\\localcache\\local-packages\\python310\\site-packages (from IPython->import-ipynb) (0.4.6)\n",
      "Requirement already satisfied: pickleshare in c:\\users\\matéo\\appdata\\local\\packages\\pythonsoftwarefoundation.python.3.10_qbz5n2kfra8p0\\localcache\\local-packages\\python310\\site-packages (from IPython->import-ipynb) (0.7.5)\n",
      "Requirement already satisfied: backcall in c:\\users\\matéo\\appdata\\local\\packages\\pythonsoftwarefoundation.python.3.10_qbz5n2kfra8p0\\localcache\\local-packages\\python310\\site-packages (from IPython->import-ipynb) (0.2.0)\n",
      "Requirement already satisfied: matplotlib-inline in c:\\users\\matéo\\appdata\\local\\packages\\pythonsoftwarefoundation.python.3.10_qbz5n2kfra8p0\\localcache\\local-packages\\python310\\site-packages (from IPython->import-ipynb) (0.1.6)\n",
      "Requirement already satisfied: prompt-toolkit<3.1.0,>=3.0.30 in c:\\users\\matéo\\appdata\\local\\packages\\pythonsoftwarefoundation.python.3.10_qbz5n2kfra8p0\\localcache\\local-packages\\python310\\site-packages (from IPython->import-ipynb) (3.0.37)\n",
      "Requirement already satisfied: stack-data in c:\\users\\matéo\\appdata\\local\\packages\\pythonsoftwarefoundation.python.3.10_qbz5n2kfra8p0\\localcache\\local-packages\\python310\\site-packages (from IPython->import-ipynb) (0.6.2)\n",
      "Requirement already satisfied: decorator in c:\\users\\matéo\\appdata\\local\\packages\\pythonsoftwarefoundation.python.3.10_qbz5n2kfra8p0\\localcache\\local-packages\\python310\\site-packages (from IPython->import-ipynb) (5.1.1)\n",
      "Requirement already satisfied: pygments>=2.4.0 in c:\\users\\matéo\\appdata\\local\\packages\\pythonsoftwarefoundation.python.3.10_qbz5n2kfra8p0\\localcache\\local-packages\\python310\\site-packages (from IPython->import-ipynb) (2.14.0)\n",
      "Requirement already satisfied: jsonschema>=2.6 in c:\\users\\matéo\\appdata\\local\\packages\\pythonsoftwarefoundation.python.3.10_qbz5n2kfra8p0\\localcache\\local-packages\\python310\\site-packages (from nbformat->import-ipynb) (4.17.3)\n",
      "Requirement already satisfied: fastjsonschema in c:\\users\\matéo\\appdata\\local\\packages\\pythonsoftwarefoundation.python.3.10_qbz5n2kfra8p0\\localcache\\local-packages\\python310\\site-packages (from nbformat->import-ipynb) (2.16.3)\n",
      "Requirement already satisfied: jupyter-core in c:\\users\\matéo\\appdata\\local\\packages\\pythonsoftwarefoundation.python.3.10_qbz5n2kfra8p0\\localcache\\local-packages\\python310\\site-packages (from nbformat->import-ipynb) (5.2.0)\n",
      "Requirement already satisfied: parso<0.9.0,>=0.8.0 in c:\\users\\matéo\\appdata\\local\\packages\\pythonsoftwarefoundation.python.3.10_qbz5n2kfra8p0\\localcache\\local-packages\\python310\\site-packages (from jedi>=0.16->IPython->import-ipynb) (0.8.3)\n",
      "Requirement already satisfied: attrs>=17.4.0 in c:\\users\\matéo\\appdata\\local\\packages\\pythonsoftwarefoundation.python.3.10_qbz5n2kfra8p0\\localcache\\local-packages\\python310\\site-packages (from jsonschema>=2.6->nbformat->import-ipynb) (22.2.0)\n",
      "Requirement already satisfied: pyrsistent!=0.17.0,!=0.17.1,!=0.17.2,>=0.14.0 in c:\\users\\matéo\\appdata\\local\\packages\\pythonsoftwarefoundation.python.3.10_qbz5n2kfra8p0\\localcache\\local-packages\\python310\\site-packages (from jsonschema>=2.6->nbformat->import-ipynb) (0.19.3)\n",
      "Requirement already satisfied: wcwidth in c:\\users\\matéo\\appdata\\local\\packages\\pythonsoftwarefoundation.python.3.10_qbz5n2kfra8p0\\localcache\\local-packages\\python310\\site-packages (from prompt-toolkit<3.1.0,>=3.0.30->IPython->import-ipynb) (0.2.6)\n",
      "Requirement already satisfied: platformdirs>=2.5 in c:\\users\\matéo\\appdata\\local\\packages\\pythonsoftwarefoundation.python.3.10_qbz5n2kfra8p0\\localcache\\local-packages\\python310\\site-packages (from jupyter-core->nbformat->import-ipynb) (3.0.0)\n",
      "Requirement already satisfied: pywin32>=1.0 in c:\\users\\matéo\\appdata\\local\\packages\\pythonsoftwarefoundation.python.3.10_qbz5n2kfra8p0\\localcache\\local-packages\\python310\\site-packages (from jupyter-core->nbformat->import-ipynb) (305)\n",
      "Requirement already satisfied: pure-eval in c:\\users\\matéo\\appdata\\local\\packages\\pythonsoftwarefoundation.python.3.10_qbz5n2kfra8p0\\localcache\\local-packages\\python310\\site-packages (from stack-data->IPython->import-ipynb) (0.2.2)\n",
      "Requirement already satisfied: asttokens>=2.1.0 in c:\\users\\matéo\\appdata\\local\\packages\\pythonsoftwarefoundation.python.3.10_qbz5n2kfra8p0\\localcache\\local-packages\\python310\\site-packages (from stack-data->IPython->import-ipynb) (2.2.1)\n",
      "Requirement already satisfied: executing>=1.2.0 in c:\\users\\matéo\\appdata\\local\\packages\\pythonsoftwarefoundation.python.3.10_qbz5n2kfra8p0\\localcache\\local-packages\\python310\\site-packages (from stack-data->IPython->import-ipynb) (1.2.0)\n",
      "Requirement already satisfied: six in c:\\users\\matéo\\appdata\\local\\packages\\pythonsoftwarefoundation.python.3.10_qbz5n2kfra8p0\\localcache\\local-packages\\python310\\site-packages (from asttokens>=2.1.0->stack-data->IPython->import-ipynb) (1.16.0)\n",
      "Note: you may need to restart the kernel to use updated packages.\n"
     ]
    },
    {
     "name": "stderr",
     "output_type": "stream",
     "text": [
      "\n",
      "[notice] A new release of pip available: 22.3.1 -> 23.0.1\n",
      "[notice] To update, run: C:\\Users\\Matéo\\AppData\\Local\\Microsoft\\WindowsApps\\PythonSoftwareFoundation.Python.3.10_qbz5n2kfra8p0\\python.exe -m pip install --upgrade pip\n"
     ]
    }
   ],
   "source": [
    "%pip install yahoofinance\n",
    "%pip install yfinance\n",
    "%pip install ta\n",
    "%pip install time\n",
    "%pip install tqdm\n",
    "%pip install pickle-mixin\n",
    "%pip install MetaTrader5\n",
    "%pip install numpy\n",
    "%pip install spicy\n",
    "%pip install datetime\n",
    "%pip install scikit-learn\n",
    "%pip install tensorflow==2.0\n",
    "%pip install keras\n",
    "%pip install pandas\n",
    "%pip install pandas_datareader\n",
    "%pip install pandas_ta\n",
    "%pip install matplotlib\n",
    "%pip install import-ipynb"
   ]
  },
  {
   "cell_type": "code",
   "execution_count": 32,
   "metadata": {},
   "outputs": [],
   "source": [
    "import warnings\n",
    "from datetime import datetime\n",
    "import numpy as np\n",
    "import pandas as pd\n",
    "import yfinance as yf\n",
    "import ta\n",
    "import MetaTrader5 as mt5\n",
    "warnings.filterwarnings(\"ignore\")\n",
    "mt5.initialize()\n",
    "def get_data(symbol, n, timeframe=mt5.TIMEFRAME_D1):\n",
    "    \"\"\" Function to import the data of the chosen symbol\"\"\"\n",
    "\n",
    "    # Initialize the connection if there is not\n",
    "    mt5.initialize()\n",
    "\n",
    "    # Current date extract\n",
    "    utc_from = datetime.now()\n",
    "\n",
    "    # Import the data into a tuple\n",
    "    rates = mt5.copy_rates_from(symbol, timeframe, utc_from, n)\n",
    "\n",
    "    # Tuple to dataframe\n",
    "    rates_frame = pd.DataFrame(rates)\n",
    "\n",
    "    # Convert time in seconds into the datetime format\n",
    "    rates_frame['time'] = pd.to_datetime(rates_frame['time'], unit='s')\n",
    "\n",
    "    # Convert the column \"time\" in the right format\n",
    "    rates_frame['time'] = pd.to_datetime(rates_frame['time'], format='%Y-%m-%d')\n",
    "\n",
    "    # Set column time as the index of the dataframe\n",
    "    rates_frame = rates_frame.set_index('time')\n",
    "    return rates_frame\n",
    "\n",
    "def orders(symbol, lot, buy=True, id_position=None):\n",
    "    \"\"\" Send the orders \"\"\"\n",
    "\n",
    "    # Initialize the connection if there is not\n",
    "    if mt5.initialize() == False:\n",
    "        mt5.initialize()\n",
    "\n",
    "    # Get filling mode \n",
    "    filling_mode = mt5.symbol_info(symbol).filling_mode - 1\n",
    "\n",
    "    # Take ask price\n",
    "    ask_price = mt5.symbol_info_tick(symbol).ask\n",
    "\n",
    "    # Take bid price\n",
    "    bid_price = mt5.symbol_info_tick(symbol).bid\n",
    "\n",
    "    # Take the point of the asset\n",
    "    point = mt5.symbol_info(symbol).point\n",
    "\n",
    "    deviation = 20  # mt5.getSlippage(symbol)\n",
    "    # **************************** Open a trade *****************************\n",
    "    if id_position == None:\n",
    "\n",
    "        # Buy order Parameters\n",
    "        if buy:\n",
    "            type_trade = mt5.ORDER_TYPE_BUY\n",
    "            sl = ask_price*(1-0.01)\n",
    "            tp = ask_price*(1+0.01)\n",
    "            price = ask_price\n",
    "\n",
    "        # Sell order Parameters\n",
    "        else:\n",
    "            type_trade = mt5.ORDER_TYPE_SELL\n",
    "            sl = bid_price*(1+0.01)\n",
    "            tp = bid_price*(1-0.01)\n",
    "            price = bid_price\n",
    "\n",
    "        # Open the trade\n",
    "        request = {\n",
    "            \"action\": mt5.TRADE_ACTION_DEAL,\n",
    "            \"symbol\": symbol,\n",
    "            \"volume\": lot,\n",
    "            \"type\": type_trade,\n",
    "            \"price\": price,\n",
    "            \"deviation\": deviation,\n",
    "            \"sl\": sl,\n",
    "            \"tp\": tp,\n",
    "            \"magic\": 234000,\n",
    "            \"comment\": \"python script order\",\n",
    "            \"type_time\": mt5.ORDER_TIME_GTC,\n",
    "            \"type_filling\": filling_mode,\n",
    "        }\n",
    "        # send a trading request\n",
    "        result = mt5.order_send(request)\n",
    "        result_comment = result.comment\n",
    "\n",
    "    # **************************** Close a trade *****************************\n",
    "    else:\n",
    "        # Buy order Parameters\n",
    "        if buy:\n",
    "            type_trade = mt5.ORDER_TYPE_SELL\n",
    "            price = bid_price\n",
    "\n",
    "        # Sell order Parameters\n",
    "        else:\n",
    "            type_trade = mt5.ORDER_TYPE_BUY\n",
    "            price = ask_price\n",
    "\n",
    "        # Close the trade\n",
    "        request = {\n",
    "            \"action\": mt5.TRADE_ACTION_DEAL,\n",
    "            \"symbol\": symbol,\n",
    "            \"volume\": lot,\n",
    "            \"type\": type_trade,\n",
    "            \"position\": id_position,\n",
    "            \"price\": price,\n",
    "            \"deviation\": deviation,\n",
    "            \"magic\": 234000,\n",
    "            \"comment\": \"python script order\",\n",
    "            \"type_time\": mt5.ORDER_TIME_GTC,\n",
    "            \"type_filling\": filling_mode,\n",
    "        }\n",
    "\n",
    "        # send a trading request\n",
    "        result = mt5.order_send(request)\n",
    "        result_comment = result.comment\n",
    "    return result.comment\n",
    "\n",
    "def resume():\n",
    "    \"\"\" Return the current positions. Position=0 --> Buy \"\"\"\n",
    "    # Initialize the connection if there is not\n",
    "    mt5.initialize()\n",
    "\n",
    "    # Define the name of the columns that we will create\n",
    "    colonnes = [\"ticket\", \"position\", \"symbol\", \"volume\"]\n",
    "\n",
    "    # Go take the current open trades\n",
    "    current = mt5.positions_get()\n",
    "\n",
    "    # Create a empty dataframe\n",
    "    summary = pd.DataFrame()\n",
    "\n",
    "    # Loop to add each row in dataframe\n",
    "    # (Can be ameliorate using of list of list)\n",
    "    for element in current:\n",
    "        element_pandas = pd.DataFrame([element.ticket,\n",
    "                                        element.type,\n",
    "                                        element.symbol,\n",
    "                                        element.volume],\n",
    "                                        index=colonnes).transpose()\n",
    "        summary = pd.concat((summary, element_pandas), axis=0)\n",
    "\n",
    "    return summary\n",
    "\n",
    "\n",
    "def run(symbol, long, short, lot):\n",
    "\n",
    "    # Initialize the connection if there is not\n",
    "    if mt5.initialize() == False:\n",
    "        mt5.initialize()\n",
    "\n",
    "    # Choose your  symbol\n",
    "    print(\"------------------------------------------------------------------\")\n",
    "    print(\"Date: \", datetime.now().strftime(\"%Y-%m-%d %H:%M:%S\"))\n",
    "    print(\"SYMBOL:\", symbol)\n",
    "\n",
    "    # Initialize the device\n",
    "    current_open_positions = resume()\n",
    "    # Buy or sell\n",
    "    print(f\"BUY: {long} \\t  SHORT: {short}\")\n",
    "\n",
    "    \"\"\" Close trade eventually \"\"\"\n",
    "    # Extraction type trade\n",
    "    try:\n",
    "        position = current_open_positions.loc[current_open_positions[\"symbol\"]==symbol].values[0][1]\n",
    "\n",
    "        identifier = current_open_positions.loc[current_open_positions[\"symbol\"]==symbol].values[0][0]\n",
    "    except:\n",
    "        position= None\n",
    "        identifier = None\n",
    "\n",
    "    print(f\"POSITION: {position} \\t ID: {identifier}\")\n",
    "\n",
    "    # Close trades\n",
    "    if long==True and position==0:\n",
    "        long=False\n",
    "\n",
    "    elif long==False and position==0:\n",
    "        res = orders(symbol, lot, buy=True, id_position=identifier)\n",
    "        print(f\"CLOSE LONG TRADE: {res}\")\n",
    "\n",
    "    elif short==True and position ==1:\n",
    "        short=False\n",
    "\n",
    "    elif short == False and position == 1:\n",
    "        res = orders(symbol, lot, buy=False, id_position=identifier)\n",
    "        print(f\"CLOSE SHORT TRADE: {res}\")\n",
    "\n",
    "    else:\n",
    "        pass\n",
    "\n",
    "\n",
    "    \"\"\" Buy or short \"\"\"\n",
    "    if long==True:\n",
    "\n",
    "        res = orders(symbol, lot, buy=True, id_position=None)\n",
    "        print(f\"OPEN LONG TRADE: {res}\")\n",
    "\n",
    "    if short==True:\n",
    "        res = orders(symbol, lot, buy=False, id_position=None)\n",
    "        print(f\"OPEN SHORT TRADE: {res}\")\n",
    "\n",
    "    print(\"------------------------------------------------------------------\")\n",
    "\n",
    "def close_all_night():\n",
    "    result = resume()\n",
    "    for i in range(len(result)):\n",
    "        before =  mt5.account_info().balance\n",
    "        row = result.iloc[0+i:1+i,:]\n",
    "        if row[\"position\"][0]==0:\n",
    "            res = orders(row[\"symbol\"][0], row[\"volume\"][0], buy=True, id_position=row[\"ticket\"][0])\n",
    "\n",
    "        else:\n",
    "            res = orders(row[\"symbol\"][0], row[\"volume\"][0], buy=False, id_position=row[\"ticket\"][0])"
   ]
  },
  {
   "cell_type": "code",
   "execution_count": 35,
   "metadata": {},
   "outputs": [
    {
     "name": "stdout",
     "output_type": "stream",
     "text": [
      "------------------------------------------------------------------\n",
      "Date:  2023-02-26 20:11:44\n",
      "Balance: 50033.93 USD, \tEquity: 50033.93 USD, \tProfit: 0.0 USD\n",
      "------------------------------------------------------------------\n",
      "Warnings\n",
      "(1, 15, 5)\n",
      "------------------------------------------------------------------\n",
      "Date:  2023-02-26 20:11:47\n",
      "SYMBOL: BTCUSD\n",
      "BUY: True \t  SHORT: False\n",
      "POSITION: None \t ID: None\n",
      "OPEN LONG TRADE: Request executed\n",
      "------------------------------------------------------------------\n"
     ]
    }
   ],
   "source": [
    "import MetaTrader5 as mt5\n",
    "import import_ipynb\n",
    "import yahoofinance as yf\n",
    "import yfinance as yf\n",
    "from datetime import datetime\n",
    "import time\n",
    "import pickle\n",
    "import ta\n",
    "from joblib import dump, load\n",
    "import os\n",
    "from sklearn.preprocessing import StandardScaler\n",
    "import tensorflow as tf\n",
    "warnings.filterwarnings(\"ignore\")\n",
    "from tensorflow.keras.models import Sequential\n",
    "from tensorflow.keras.layers import Dense, LSTM, Dropout\n",
    "\n",
    "\n",
    "path = \"C:/Desktop/ANN/path\" # Ex: C:/Desktop/Python_for_finance_and_algorithmic_trading/ChapterN/Models\n",
    "\n",
    "\n",
    "\n",
    "def feature_engineering(df):\n",
    "    \"\"\" DON'T PUT THE SHIFT HERE\"\"\"\n",
    "    \n",
    "    # We copy the dataframe to avoid interferences in the data\n",
    "    df_copy = df.copy()\n",
    "    df_copy[[\"returns\"]] = df_copy[[\"close\"]].pct_change(1)\n",
    "\n",
    "    # Create the SMAs\n",
    "    df_copy[\"SMA 15\"] = df_copy[[\"close\"]].rolling(15).mean()\n",
    "    df_copy[\"SMA 60\"] = df_copy[[\"close\"]].rolling(60).mean()\n",
    "    \n",
    "    # Create the volatilities\n",
    "    df_copy[\"MSD 10\"] = df_copy[[\"returns\"]].rolling(10).std()\n",
    "    df_copy[\"MSD 30\"] = df_copy[[\"returns\"]].rolling(30).std()\n",
    "    \n",
    "    # Create the Rsi\n",
    "    RSI = ta.momentum.RSIIndicator(df_copy[\"close\"], window= 14, fillna = False)\n",
    "    df_copy[\"rsi\"] = RSI.rsi()\n",
    "    \n",
    "    # STANDARDIZATION\n",
    "\n",
    "    sc = StandardScaler()\n",
    "    df_copy = df_copy[[\"SMA 15\", \"SMA 60\", \"MSD 10\", \"MSD 30\", \"rsi\"]].dropna()\n",
    "    df_copy_sc = sc.fit_transform(df_copy)\n",
    "\n",
    "    return df_copy_sc\n",
    "\n",
    "def X_3d_RNN(X_s, y_s, lag):\n",
    "\n",
    "    # Simple verification\n",
    "    if len(X_s) != len(y_s):\n",
    "        print(\"Warnings\")\n",
    "\n",
    "    # Create the X_train\n",
    "    X_train = []\n",
    "    for variable in range(0, X_s.shape[1]):\n",
    "        X = []\n",
    "        for i in range(lag, X_s.shape[0]):\n",
    "            X.append(X_s[i-lag:i, variable])\n",
    "        X_train.append(X)\n",
    "    X_train, np.array(X_train)\n",
    "    X_train = np.swapaxes(np.swapaxes(X_train, 0, 1), 1, 2)\n",
    "\n",
    "    # Create the y_train\n",
    "    y_train = []\n",
    "    for i in range(lag, y_s.shape[0]):\n",
    "        y_train.append(y_s[i, :].reshape(-1,1).transpose())\n",
    "    y_train = np.concatenate(y_train, axis=0)\n",
    "    return X_train, y_train\n",
    "\n",
    "   \n",
    "def RNN_weights():\n",
    "    # INITIALIZATION OF THE MODEL\n",
    "    classifier = Sequential()\n",
    "\n",
    "    # ADD LSTM LAYER\n",
    "    classifier.add(LSTM(units = 10, return_sequences = True,\n",
    "                      input_shape = (15,5,)))\n",
    "\n",
    "\n",
    "    # LOOP WHICH ADD LSTM LAYER\n",
    "    for _ in range(1):\n",
    "        classifier.add(LSTM(units = 10, return_sequences = True))\n",
    "        classifier.add(Dropout(0.50))\n",
    "\n",
    "    # LAST LSTM LAYER BUT WITH return_sequences = False \n",
    "    classifier.add(LSTM(units = 10, return_sequences = False))\n",
    "\n",
    "\n",
    "    # OUTPUT DENSE LAYER\n",
    "    classifier.add(Dense(1, activation=\"sigmoid\"))\n",
    "\n",
    "    # COMPILE THE MODEL\n",
    "    classifier.compile(optimizer=\"adam\", loss=\"binary_crossentropy\", metrics=[\"accuracy\"])\n",
    "\n",
    "    return classifier\n",
    "\n",
    "def RNN_cl_sig(symbol):\n",
    "    \"\"\" Function for predict the value of tommorow using DNN model\"\"\"\n",
    "    \n",
    "    # Create the weights if there is not in the folder\n",
    "    rnn_1 = RNN_weights()\n",
    "    rnn_2 = RNN_weights()\n",
    "    rnn_3 = RNN_weights()\n",
    "\n",
    "    # Import trained weights\n",
    "    rnn_1.load_weights(f\"RNN_weights/RNN n3\")\n",
    "    rnn_2.load_weights(f\"RNN_weights/RNN n34\")\n",
    "    rnn_3.load_weights(f\"RNN_weights/RNN n31\")\n",
    "    \n",
    "    # Take the lastest percentage of change \n",
    "    df = get_data(symbol, 700)\n",
    "    \n",
    "    # Features engeeniring\n",
    "    data = feature_engineering(df)\n",
    "    X_data, _ = X_3d_RNN(data, np.zeros([700,1]),15)\n",
    "    X = X_data[-1:,:,:]\n",
    "    print(np.shape(X))\n",
    "    # Bagging\n",
    "    pr1 = np.where(rnn_1.predict(X)==0, -1,1)\n",
    "    pr2 = np.where(rnn_2.predict(X)==0, -1,1)\n",
    "    pr3 = np.where(rnn_3.predict(X)==0, -1,1)\n",
    "    \n",
    "    # Find the signal\n",
    "    buy = (pr1 + pr2 + pr3)[0][0] >=1\n",
    "    sell = not buy\n",
    "    \n",
    "    \n",
    "    return buy, sell\n",
    "\n",
    "\n",
    "\n",
    "# True = Live Trading and False = Screener\n",
    "live = True\n",
    "\n",
    "if live:\n",
    "    current_account_info = mt5.account_info()\n",
    "    print(\"------------------------------------------------------------------\")\n",
    "    print(\"Date: \", datetime.now().strftime(\"%Y-%m-%d %H:%M:%S\"))\n",
    "    print(f\"Balance: {current_account_info.balance} USD, \\t\"\n",
    "          f\"Equity: {current_account_info.equity} USD, \\t\"\n",
    "          f\"Profit: {current_account_info.profit} USD\")\n",
    "    print(\"------------------------------------------------------------------\")\n",
    "\n",
    "\n",
    "\n",
    "info_order = {\n",
    "    \"Bitcoin\": [\"BTCUSD\", 0.01]\n",
    "}\n",
    "\n",
    "\n",
    "start = datetime.now().strftime(\"%H:%M:%S\")\n",
    "while True:\n",
    "    is_time = datetime.now().strftime(\"%H:%M:%S\") == start #\"23:59:59\"\n",
    "    # Launch the algorithm\n",
    "    if is_time:\n",
    "\n",
    "        # Open the trades\n",
    "        for asset in info_order.keys():\n",
    "\n",
    "            # Initialize the inputs\n",
    "            symbol = info_order[asset][0]\n",
    "            lot = info_order[asset][1]\n",
    "\n",
    "            # Create the signals\n",
    "            buy, sell = RNN_cl_sig(symbol)\n",
    "\n",
    "             # Run the algorithm\n",
    "            if live:\n",
    "                run(symbol, buy, sell,lot)\n",
    "            else:\n",
    "                print(f\"Symbol: {symbol}\\t\"\n",
    "                     f\"Buy: {buy}\\t\"\n",
    "                     f\"Sell: {sell}\")\n",
    "    time.sleep(1)"
   ]
  }
 ],
 "metadata": {
  "kernelspec": {
   "display_name": "Python 3",
   "language": "python",
   "name": "python3"
  },
  "language_info": {
   "codemirror_mode": {
    "name": "ipython",
    "version": 3
   },
   "file_extension": ".py",
   "mimetype": "text/x-python",
   "name": "python",
   "nbconvert_exporter": "python",
   "pygments_lexer": "ipython3",
   "version": "3.10.10"
  },
  "orig_nbformat": 4,
  "vscode": {
   "interpreter": {
    "hash": "381a82bbc055235968fb95a6799a0eb845e04a2656d8f1a687c82e39b51d3054"
   }
  }
 },
 "nbformat": 4,
 "nbformat_minor": 2
}
